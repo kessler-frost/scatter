{
 "cells": [
  {
   "cell_type": "code",
   "execution_count": 1,
   "metadata": {},
   "outputs": [],
   "source": [
    "from scatter.main import save, make_callable\n",
    "from pprint import pprint\n",
    "import inspect\n",
    "\n",
    "\n",
    "def sample(i: int, j: float = 5.0) -> list[float]:\n",
    "    return i + j\n",
    "\n",
    "save(sample)\n",
    "\n",
    "name = \"sample\"\n",
    "\n",
    "# my_func = _get_function(name)\n",
    "# pprint(my_func.versioned_functions[my_func.current_version].model_dump())\n",
    "\n",
    "# func = make_callable(name)\n",
    "# print(func(2))\n"
   ]
  },
  {
   "cell_type": "code",
   "execution_count": 2,
   "metadata": {},
   "outputs": [
    {
     "name": "stdout",
     "output_type": "stream",
     "text": [
      "Normal call: 0.004083708976395428\n",
      "Cloudpickle call: 0.414241083082743\n",
      "Redis direct call: 11.362018249928951\n",
      "Redis pipelined call: 0.6837499160319567\n",
      "Scatter: 21.272655749926344\n",
      "Scatter pipelined: 10.6764975420665\n"
     ]
    }
   ],
   "source": [
    "# Measure time for 10000 calls\n",
    "\n",
    "from time import perf_counter\n",
    "import cloudpickle\n",
    "import redis\n",
    "\n",
    "NUM = 100_000\n",
    "\n",
    "\n",
    "r = redis.Redis()\n",
    "dumped_func = cloudpickle.dumps(sample)\n",
    "\n",
    "\n",
    "# func_id = str(ulid.ULID())\n",
    "func_id = \"sample\"\n",
    "r.set(func_id, dumped_func)\n",
    "\n",
    "\n",
    "start = perf_counter()\n",
    "for _ in range(NUM):\n",
    "    sample(42, 42)\n",
    "print(\"Normal call:\", perf_counter() - start)\n",
    "\n",
    "\n",
    "start = perf_counter()\n",
    "for _ in range(NUM):\n",
    "    cloudpickle.loads(dumped_func)(42, 42)\n",
    "print(\"Cloudpickle call:\", perf_counter() - start)\n",
    "\n",
    "start = perf_counter()\n",
    "for _ in range(NUM):\n",
    "    cloudpickle.loads(r.get(func_id))(42, 42)\n",
    "print(\"Redis direct call:\", perf_counter() - start)\n",
    "\n",
    "\n",
    "start = perf_counter()\n",
    "pipeline = r.pipeline()\n",
    "for _ in range(NUM):\n",
    "    pipeline.get(func_id)\n",
    "all_funcs = pipeline.execute()\n",
    "for func in all_funcs:\n",
    "    cloudpickle.loads(func)(42, 42)\n",
    "print(\"Redis pipelined call:\", perf_counter() - start)\n",
    "\n",
    "\n",
    "start = perf_counter()\n",
    "for _ in range(NUM):\n",
    "    make_callable(name)(42, 42)\n",
    "print(\"Scatter:\", perf_counter() - start)\n",
    "\n",
    "\n",
    "start = perf_counter()\n",
    "for _ in range(NUM):\n",
    "    pipeline = make_callable(name, True)\n",
    "\n",
    "all_funcs = pipeline.execute()\n",
    "for func in all_funcs:\n",
    "    cloudpickle.loads(func)(42, 42)\n",
    "\n",
    "print(\"Scatter pipelined:\", perf_counter() - start)"
   ]
  },
  {
   "cell_type": "code",
   "execution_count": null,
   "metadata": {},
   "outputs": [],
   "source": []
  },
  {
   "cell_type": "code",
   "execution_count": 3,
   "metadata": {},
   "outputs": [],
   "source": [
    "# import redis\n",
    "\n",
    "# r = redis.Redis()\n",
    "# pipeline = r.pipeline()\n",
    "\n",
    "# r.flushall()"
   ]
  },
  {
   "cell_type": "code",
   "execution_count": null,
   "metadata": {},
   "outputs": [],
   "source": []
  },
  {
   "cell_type": "code",
   "execution_count": null,
   "metadata": {},
   "outputs": [],
   "source": []
  },
  {
   "cell_type": "code",
   "execution_count": null,
   "metadata": {},
   "outputs": [],
   "source": []
  }
 ],
 "metadata": {
  "kernelspec": {
   "display_name": "scatter",
   "language": "python",
   "name": "python3"
  },
  "language_info": {
   "codemirror_mode": {
    "name": "ipython",
    "version": 3
   },
   "file_extension": ".py",
   "mimetype": "text/x-python",
   "name": "python",
   "nbconvert_exporter": "python",
   "pygments_lexer": "ipython3",
   "version": "3.10.14"
  }
 },
 "nbformat": 4,
 "nbformat_minor": 2
}
