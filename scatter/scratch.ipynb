{
 "cells": [
  {
   "cell_type": "code",
   "execution_count": 2,
   "metadata": {},
   "outputs": [],
   "source": [
    "import scatter\n",
    "import os\n",
    "\n",
    "scatter.init(redis_url=os.getenv(\"REDIS_URL\"))\n",
    "\n",
    "scatter.main.__flushall()"
   ]
  },
  {
   "cell_type": "code",
   "execution_count": null,
   "metadata": {},
   "outputs": [],
   "source": [
    "\n",
    "@scatter.track\n",
    "def sample_task_1(a: int, b: int):\n",
    "    return \"in the brightest day\"\n",
    "    # return \"in the brightest day, in the blackest night\"\n",
    "    # return a * b\n",
    "\n",
    "sample_task_1.push()"
   ]
  },
  {
   "cell_type": "code",
   "execution_count": 4,
   "metadata": {},
   "outputs": [],
   "source": [
    "sample_task_1.delete()"
   ]
  },
  {
   "cell_type": "code",
   "execution_count": null,
   "metadata": {},
   "outputs": [],
   "source": [
    "@scatter.track\n",
    "def sample_task_2(a: int, b: int):\n",
    "    return \"in the brightest day, in the blackest night, no evil shall escape my sight\"\n",
    "\n",
    "sample_task_2.push()\n"
   ]
  },
  {
   "cell_type": "code",
   "execution_count": 3,
   "metadata": {},
   "outputs": [],
   "source": [
    "sample_task_2.delete()"
   ]
  },
  {
   "cell_type": "code",
   "execution_count": null,
   "metadata": {},
   "outputs": [],
   "source": []
  }
 ],
 "metadata": {
  "kernelspec": {
   "display_name": "scatter",
   "language": "python",
   "name": "python3"
  },
  "language_info": {
   "codemirror_mode": {
    "name": "ipython",
    "version": 3
   },
   "file_extension": ".py",
   "mimetype": "text/x-python",
   "name": "python",
   "nbconvert_exporter": "python",
   "pygments_lexer": "ipython3",
   "version": "3.10.14"
  }
 },
 "nbformat": 4,
 "nbformat_minor": 2
}
