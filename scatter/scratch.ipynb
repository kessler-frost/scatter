{
 "cells": [
  {
   "cell_type": "code",
   "execution_count": 1,
   "metadata": {},
   "outputs": [
    {
     "name": "stdout",
     "output_type": "stream",
     "text": [
      "LOADED STATE MANAGER\n"
     ]
    }
   ],
   "source": [
    "import redis\n",
    "import redis.asyncio as aredis\n",
    "from typing import Dict, Optional, TYPE_CHECKING\n",
    "from pprint import pformat\n",
    "\n",
    "if TYPE_CHECKING:\n",
    "    from scatter.scatter_function import ScatterFunction\n",
    "\n",
    "\n",
    "class StateManager:\n",
    "    def __init__(self) -> None:\n",
    "        print(\"LOADED STATE MANAGER\")\n",
    "\n",
    "        self.auto_updates: bool = True\n",
    "\n",
    "        # Default RESP protocol is 2 but I'm using 3 as it will support newer features and is backwards compatible\n",
    "        self.resp_protocol: int = 3\n",
    "        self.redis_client: Optional[redis.Redis] = None\n",
    "        self.aredis_client: Optional[aredis.Redis] = None\n",
    "\n",
    "        self.scheduled_tasks: set = set()\n",
    "\n",
    "        self.loaded_functions: Dict[str, \"ScatterFunction\"] = {}\n",
    "\n",
    "        self.initialized: bool = False\n",
    "    \n",
    "    def __repr__(self) -> str:\n",
    "        return pformat(\n",
    "            self.__dict__\n",
    "        )\n",
    "\n",
    "# Since this is part of the \"state_manager\" module, it is inherently singleton\n",
    "state_manager = StateManager()"
   ]
  },
  {
   "cell_type": "code",
   "execution_count": 2,
   "metadata": {},
   "outputs": [
    {
     "name": "stdout",
     "output_type": "stream",
     "text": [
      "{'aredis_client': None,\n",
      " 'auto_updates': True,\n",
      " 'initialized': False,\n",
      " 'loaded_functions': {},\n",
      " 'redis_client': None,\n",
      " 'resp_protocol': 3,\n",
      " 'scheduled_tasks': set()}\n"
     ]
    }
   ],
   "source": [
    "print(state_manager)"
   ]
  },
  {
   "cell_type": "code",
   "execution_count": null,
   "metadata": {},
   "outputs": [],
   "source": []
  }
 ],
 "metadata": {
  "kernelspec": {
   "display_name": "scatter",
   "language": "python",
   "name": "python3"
  },
  "language_info": {
   "codemirror_mode": {
    "name": "ipython",
    "version": 3
   },
   "file_extension": ".py",
   "mimetype": "text/x-python",
   "name": "python",
   "nbconvert_exporter": "python",
   "pygments_lexer": "ipython3",
   "version": "3.10.14"
  }
 },
 "nbformat": 4,
 "nbformat_minor": 2
}
