{
 "cells": [
  {
   "cell_type": "code",
   "execution_count": 1,
   "metadata": {},
   "outputs": [],
   "source": [
    "import scatter\n",
    "import os\n",
    "\n",
    "\n",
    "scatter.init(redis_url=os.getenv(\"REDIS_URL\"))\n",
    "\n",
    "scatter.main.__flushall()"
   ]
  },
  {
   "cell_type": "code",
   "execution_count": 2,
   "metadata": {},
   "outputs": [],
   "source": [
    "\n",
    "@scatter.track\n",
    "def sample_task_1(a: int, b: int):\n",
    "    return \"in the brightest day\"\n",
    "    # return \"in the brightest day, in the blackest night\"\n",
    "    # return a * b\n",
    "\n",
    "sample_task_1.push()"
   ]
  },
  {
   "cell_type": "code",
   "execution_count": 3,
   "metadata": {},
   "outputs": [
    {
     "name": "stdout",
     "output_type": "stream",
     "text": [
      "in the brightest day\n"
     ]
    }
   ],
   "source": [
    "my_func = scatter.get(\"sample_task_1\")\n",
    "print(my_func(2, 3))"
   ]
  },
  {
   "cell_type": "code",
   "execution_count": 4,
   "metadata": {},
   "outputs": [],
   "source": [
    "@scatter.track\n",
    "def sample_task_1(a: int, b: int):\n",
    "    # return \"in the brightest day\"\n",
    "    # return \"in the brightest day, in the blackest night\"\n",
    "    return a * b\n",
    "\n",
    "sample_task_1.push()"
   ]
  },
  {
   "cell_type": "code",
   "execution_count": 5,
   "metadata": {},
   "outputs": [
    {
     "name": "stdout",
     "output_type": "stream",
     "text": [
      "6\n"
     ]
    }
   ],
   "source": [
    "my_func.pull()\n",
    "print(my_func(2, 3))"
   ]
  },
  {
   "cell_type": "code",
   "execution_count": 6,
   "metadata": {},
   "outputs": [
    {
     "name": "stdout",
     "output_type": "stream",
     "text": [
      "in the brightest day\n"
     ]
    }
   ],
   "source": [
    "my_func.downgrade()\n",
    "print(my_func(2, 3))"
   ]
  },
  {
   "cell_type": "code",
   "execution_count": 7,
   "metadata": {},
   "outputs": [],
   "source": [
    "my_func.delete()"
   ]
  },
  {
   "cell_type": "code",
   "execution_count": 8,
   "metadata": {},
   "outputs": [
    {
     "ename": "KeyError",
     "evalue": "\"Function `sample_task_1` doesn't exist\"",
     "output_type": "error",
     "traceback": [
      "\u001b[0;31m---------------------------------------------------------------------------\u001b[0m",
      "\u001b[0;31mKeyError\u001b[0m                                  Traceback (most recent call last)",
      "Cell \u001b[0;32mIn[8], line 1\u001b[0m\n\u001b[0;32m----> 1\u001b[0m err_func \u001b[38;5;241m=\u001b[39m \u001b[43mscatter\u001b[49m\u001b[38;5;241;43m.\u001b[39;49m\u001b[43mget\u001b[49m\u001b[43m(\u001b[49m\u001b[38;5;124;43m\"\u001b[39;49m\u001b[38;5;124;43msample_task_1\u001b[39;49m\u001b[38;5;124;43m\"\u001b[39;49m\u001b[43m)\u001b[49m\n",
      "File \u001b[0;32m~/dev/scatter/scatter/main.py:144\u001b[0m, in \u001b[0;36mget\u001b[0;34m(name)\u001b[0m\n\u001b[1;32m    129\u001b[0m \u001b[38;5;250m\u001b[39m\u001b[38;5;124;03m\"\"\"\u001b[39;00m\n\u001b[1;32m    130\u001b[0m \u001b[38;5;124;03mGet the callable function by name.\u001b[39;00m\n\u001b[1;32m    131\u001b[0m \u001b[38;5;124;03m\u001b[39;00m\n\u001b[0;32m   (...)\u001b[0m\n\u001b[1;32m    140\u001b[0m \u001b[38;5;124;03m    name: Name of the saved function to load\u001b[39;00m\n\u001b[1;32m    141\u001b[0m \u001b[38;5;124;03m\"\"\"\u001b[39;00m\n\u001b[1;32m    143\u001b[0m \u001b[38;5;28;01mif\u001b[39;00m name \u001b[38;5;129;01mnot\u001b[39;00m \u001b[38;5;129;01min\u001b[39;00m state_manager\u001b[38;5;241m.\u001b[39mloaded_functions:\n\u001b[0;32m--> 144\u001b[0m     \u001b[43m_load_function\u001b[49m\u001b[43m(\u001b[49m\u001b[43mname\u001b[49m\u001b[43m)\u001b[49m\n\u001b[1;32m    145\u001b[0m \u001b[38;5;28;01mreturn\u001b[39;00m state_manager\u001b[38;5;241m.\u001b[39mloaded_functions\u001b[38;5;241m.\u001b[39mget(name)\n",
      "File \u001b[0;32m~/dev/scatter/scatter/main.py:22\u001b[0m, in \u001b[0;36m_load_function\u001b[0;34m(name)\u001b[0m\n\u001b[1;32m     14\u001b[0m \u001b[38;5;250m\u001b[39m\u001b[38;5;124;03m\"\"\"\u001b[39;00m\n\u001b[1;32m     15\u001b[0m \u001b[38;5;124;03mLoad the function in memory to add to `state_manager.loaded_functions` dictionary\u001b[39;00m\n\u001b[1;32m     16\u001b[0m \n\u001b[1;32m     17\u001b[0m \u001b[38;5;124;03mArgs:\u001b[39;00m\n\u001b[1;32m     18\u001b[0m \u001b[38;5;124;03m    name: Name of the function in the redis store\u001b[39;00m\n\u001b[1;32m     19\u001b[0m \u001b[38;5;124;03m\"\"\"\u001b[39;00m\n\u001b[1;32m     21\u001b[0m scatter_obj \u001b[38;5;241m=\u001b[39m ScatterFunction(name\u001b[38;5;241m=\u001b[39mname)\n\u001b[0;32m---> 22\u001b[0m \u001b[43mscatter_obj\u001b[49m\u001b[38;5;241;43m.\u001b[39;49m\u001b[43mpull\u001b[49m\u001b[43m(\u001b[49m\u001b[43m)\u001b[49m\n\u001b[1;32m     23\u001b[0m \u001b[38;5;28;01mif\u001b[39;00m state_manager\u001b[38;5;241m.\u001b[39mauto_updates:\n\u001b[1;32m     24\u001b[0m     state_manager\u001b[38;5;241m.\u001b[39mscheduled_tasks\u001b[38;5;241m.\u001b[39madd(\n\u001b[1;32m     25\u001b[0m         asyncio\u001b[38;5;241m.\u001b[39mcreate_task(scatter_obj\u001b[38;5;241m.\u001b[39maschedule_auto_updating())\n\u001b[1;32m     26\u001b[0m     )\n",
      "File \u001b[0;32m~/dev/scatter/scatter/scatter_function.py:174\u001b[0m, in \u001b[0;36mScatterFunction.pull\u001b[0;34m(self, version)\u001b[0m\n\u001b[1;32m    172\u001b[0m latest_version \u001b[38;5;241m=\u001b[39m \u001b[38;5;28mself\u001b[39m\u001b[38;5;241m.\u001b[39mlatest_version(raw\u001b[38;5;241m=\u001b[39m\u001b[38;5;28;01mTrue\u001b[39;00m)\n\u001b[1;32m    173\u001b[0m \u001b[38;5;28;01mif\u001b[39;00m latest_version \u001b[38;5;129;01mis\u001b[39;00m \u001b[38;5;28;01mNone\u001b[39;00m:\n\u001b[0;32m--> 174\u001b[0m     \u001b[38;5;28;01mraise\u001b[39;00m \u001b[38;5;167;01mKeyError\u001b[39;00m(\u001b[38;5;124mf\u001b[39m\u001b[38;5;124m\"\u001b[39m\u001b[38;5;124mFunction `\u001b[39m\u001b[38;5;132;01m{\u001b[39;00m\u001b[38;5;28mself\u001b[39m\u001b[38;5;241m.\u001b[39mname\u001b[38;5;132;01m}\u001b[39;00m\u001b[38;5;124m` doesn\u001b[39m\u001b[38;5;124m'\u001b[39m\u001b[38;5;124mt exist\u001b[39m\u001b[38;5;124m\"\u001b[39m)\n\u001b[1;32m    175\u001b[0m \u001b[38;5;28;01melse\u001b[39;00m:\n\u001b[1;32m    176\u001b[0m     latest_version \u001b[38;5;241m=\u001b[39m \u001b[38;5;28mint\u001b[39m(latest_version)\n",
      "\u001b[0;31mKeyError\u001b[0m: \"Function `sample_task_1` doesn't exist\""
     ]
    }
   ],
   "source": [
    "err_func = scatter.get(\"sample_task_1\")"
   ]
  },
  {
   "cell_type": "code",
   "execution_count": 8,
   "metadata": {},
   "outputs": [],
   "source": []
  },
  {
   "cell_type": "code",
   "execution_count": null,
   "metadata": {},
   "outputs": [],
   "source": []
  },
  {
   "cell_type": "code",
   "execution_count": 9,
   "metadata": {},
   "outputs": [],
   "source": [
    "@scatter.track\n",
    "def sample_task_2(a: int, b: int):\n",
    "    return \"in the brightest day, in the blackest night, no evil shall escape my sight\"\n",
    "\n",
    "sample_task_2.push()\n"
   ]
  },
  {
   "cell_type": "code",
   "execution_count": 10,
   "metadata": {},
   "outputs": [],
   "source": [
    "sample_task_2.delete()"
   ]
  },
  {
   "cell_type": "code",
   "execution_count": null,
   "metadata": {},
   "outputs": [],
   "source": []
  }
 ],
 "metadata": {
  "kernelspec": {
   "display_name": "scatter",
   "language": "python",
   "name": "python3"
  },
  "language_info": {
   "codemirror_mode": {
    "name": "ipython",
    "version": 3
   },
   "file_extension": ".py",
   "mimetype": "text/x-python",
   "name": "python",
   "nbconvert_exporter": "python",
   "pygments_lexer": "ipython3",
   "version": "3.10.14"
  }
 },
 "nbformat": 4,
 "nbformat_minor": 2
}
