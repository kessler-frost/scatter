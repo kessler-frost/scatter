{
 "cells": [
  {
   "cell_type": "code",
   "execution_count": null,
   "metadata": {},
   "outputs": [],
   "source": [
    "from scatter.brew.core import make_callable, current_version, rollback, scatter, vaporize\n",
    "\n",
    "num_1 = 42\n",
    "num_2 = 42 * 24"
   ]
  },
  {
   "cell_type": "code",
   "execution_count": null,
   "metadata": {},
   "outputs": [],
   "source": [
    "@scatter\n",
    "def add(a: int, b: int) -> int:\n",
    "    return a + b"
   ]
  },
  {
   "cell_type": "code",
   "execution_count": null,
   "metadata": {},
   "outputs": [],
   "source": [
    "print(\"Current function version:\", current_version(\"add\"))\n",
    "\n",
    "callable_func = make_callable(\"add\")\n",
    "\n",
    "print(\"Function call result:\", callable_func(num_1, num_2))"
   ]
  },
  {
   "cell_type": "code",
   "execution_count": null,
   "metadata": {},
   "outputs": [],
   "source": [
    "@scatter\n",
    "def add(a: int, b: int, c: int) -> int:\n",
    "    return a + b + c"
   ]
  },
  {
   "cell_type": "code",
   "execution_count": null,
   "metadata": {},
   "outputs": [],
   "source": [
    "# Updated function\n",
    "\n",
    "callable_func = make_callable(\"add\")\n",
    "print(\"Updated function call result:\", callable_func(num_1, num_2))\n",
    "# print(\"Updated function call result:\", callable_func(num_1, num_2, num_1))"
   ]
  },
  {
   "cell_type": "code",
   "execution_count": null,
   "metadata": {},
   "outputs": [],
   "source": [
    "# Rollback\n",
    "\n",
    "rollback(\"add\")\n",
    "print(\"Version after rollback:\", current_version(\"add\"))"
   ]
  },
  {
   "cell_type": "code",
   "execution_count": null,
   "metadata": {},
   "outputs": [],
   "source": [
    "# Calling rolledback function\n",
    "callable_func = make_callable(\"add\")\n",
    "print(\"Rolled back function call result:\", callable_func(num_1, num_2))"
   ]
  },
  {
   "cell_type": "code",
   "execution_count": null,
   "metadata": {},
   "outputs": [],
   "source": [
    "print(\"Deleting the function...\")\n",
    "vaporize(\"add\")"
   ]
  }
 ],
 "metadata": {
  "language_info": {
   "name": "python"
  }
 },
 "nbformat": 4,
 "nbformat_minor": 2
}
