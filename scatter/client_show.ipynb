{
 "cells": [
  {
   "cell_type": "markdown",
   "metadata": {},
   "source": [
    "# Scatter\n",
    "\n",
    "An opinionated package for creating RPCs in Python with type validation and version controlled functions. I have a working version of this for FastAPI as well, but this is cooler."
   ]
  },
  {
   "cell_type": "code",
   "execution_count": null,
   "metadata": {},
   "outputs": [],
   "source": [
    "from scatter.brew.core import make_callable, current_version, rollback, scatter, vaporize\n",
    "\n",
    "num_1 = 42\n",
    "num_2 = 42 * 24"
   ]
  },
  {
   "cell_type": "code",
   "execution_count": null,
   "metadata": {},
   "outputs": [],
   "source": [
    "@scatter\n",
    "def add(a: int, b: int) -> int:\n",
    "    return a + b"
   ]
  },
  {
   "cell_type": "markdown",
   "metadata": {},
   "source": [
    "^ The function will be \"scattered\" on the server and can now be called multiple times by multiple clients in parallel WITH type validation. And we can now shutdown the notebook if needed."
   ]
  },
  {
   "cell_type": "code",
   "execution_count": null,
   "metadata": {},
   "outputs": [],
   "source": [
    "print(\"Current function version:\", current_version(\"add\"))\n",
    "\n",
    "callable_func = make_callable(\"add\")\n",
    "\n",
    "print(\"Function call result:\", callable_func(num_1, num_2))"
   ]
  },
  {
   "cell_type": "markdown",
   "metadata": {},
   "source": [
    "^ We call `make_callable` with the function name and we'll get a callable object with the same signature as the original function - thus will do type validation on the client side itself.\n",
    "\n",
    "### ^ I don't want to write protobuf files or any other IDL (Interface Definition Language)."
   ]
  },
  {
   "cell_type": "code",
   "execution_count": null,
   "metadata": {},
   "outputs": [],
   "source": [
    "@scatter\n",
    "def add(a: int, b: int, c: int) -> int:\n",
    "    return a + b + c"
   ]
  },
  {
   "cell_type": "markdown",
   "metadata": {},
   "source": [
    "^ Let's change the function signature and scatter again with the same function name, this will update the old function with the new signature."
   ]
  },
  {
   "cell_type": "code",
   "execution_count": null,
   "metadata": {},
   "outputs": [],
   "source": [
    "print(\"Version after updating signature:\", current_version(\"add\"))"
   ]
  },
  {
   "cell_type": "code",
   "execution_count": null,
   "metadata": {},
   "outputs": [],
   "source": [
    "# Updated function\n",
    "\n",
    "callable_func = make_callable(\"add\")\n",
    "print(\"Updated function call result:\", callable_func(num_1, num_2))  # This will fail since it now expects 3 arguments\n",
    "# print(\"Updated function call result:\", callable_func(num_1, num_2, num_1))"
   ]
  },
  {
   "cell_type": "markdown",
   "metadata": {},
   "source": [
    "Rolling back to the previous version of the function:"
   ]
  },
  {
   "cell_type": "code",
   "execution_count": null,
   "metadata": {},
   "outputs": [],
   "source": [
    "# Rollback\n",
    "\n",
    "rollback(\"add\")\n",
    "print(\"Version after rollback:\", current_version(\"add\"))"
   ]
  },
  {
   "cell_type": "code",
   "execution_count": null,
   "metadata": {},
   "outputs": [],
   "source": [
    "# Calling rolledback function\n",
    "callable_func = make_callable(\"add\")\n",
    "print(\"Rolled back function call result:\", callable_func(num_1, num_2))"
   ]
  },
  {
   "cell_type": "markdown",
   "metadata": {},
   "source": [
    "Deleting the function:"
   ]
  },
  {
   "cell_type": "code",
   "execution_count": null,
   "metadata": {},
   "outputs": [],
   "source": [
    "print(\"Deleting the function...\")\n",
    "vaporize(\"add\")"
   ]
  },
  {
   "cell_type": "markdown",
   "metadata": {},
   "source": [
    "Some opinions:\n",
    "\n",
    "- WHY DO I NEED TO RESTART THE ENTIRE APP TO ADD A NEW FUNCTION OR EDIT AN EXISTING ONE? (in a lot of cases I shouldn't have to)\n",
    "\n",
    "- Not a fan of classes for RPCs. I prefer functions.\n",
    "\n",
    "- Stateless is better than stateful. A philosphy which is best suited when writing APIs. That said, I do see the value in stateful RPCs.\n",
    "\n",
    "- No reason to not have type validation always on.\n",
    "\n",
    "- I want to rollback the functions to a previous version if I need to.\n",
    "\n",
    "- Would like to avoid having to use the CLI as it breaks my immersion when coding and is a bit of a barrier to start using any new package.\n",
    "\n",
    "- No storage of results, args, or kwargs - it's not the server's responsibility to store this information.\n",
    "\n",
    "\n",
    "- I shouldn't need to write all my functions at the time when I start the app - dynamic addition/deletion/updation of functions should be possible. Let's say a new node joins and they want to add a new function to the server, they should be able to do so without restarting the server.\n",
    "\n",
    "- Simplicity is key\n",
    "\n",
    "- ⁠Although [P]ython [O]bject [O]riented [P]rogramming is POOP, it does come in handy every once in a while\n",
    "\n",
    "- Migration should be simplified using a \"Set\" of related functions that can be added/removed/updated in one go - will be added soon.\n"
   ]
  },
  {
   "cell_type": "markdown",
   "metadata": {},
   "source": [
    "Cool packages used:\n",
    "- `hapless` - for background process management and CLI\n",
    "- `typer` - to write a good looking rich based CLI\n",
    "- `msgspec` - for type validation, serialization and deserialization with `msgpack` -> which is almost universally seen as a faster format - all of this is done faster than pydantic\n",
    "- `zeroapi` - for the server and client communication using RPC and ZeroMQ - a brokerless message queue protocol\n",
    "- `cloudpickle` - to serialize/deserialize functions AND ONLY THE UNSUPPORTED ARBITRARY TYPES - all the supported types are already handled by `msgspec`\n",
    "- `redis` or `diskcache` - backend to store the serialized functions in cache for really fast retrieval and manual mechanism of versioning the functions"
   ]
  },
  {
   "cell_type": "markdown",
   "metadata": {},
   "source": []
  }
 ],
 "metadata": {
  "kernelspec": {
   "display_name": "scatter",
   "language": "python",
   "name": "python3"
  },
  "language_info": {
   "codemirror_mode": {
    "name": "ipython",
    "version": 3
   },
   "file_extension": ".py",
   "mimetype": "text/x-python",
   "name": "python",
   "nbconvert_exporter": "python",
   "pygments_lexer": "ipython3",
   "version": "3.11.9"
  }
 },
 "nbformat": 4,
 "nbformat_minor": 2
}
