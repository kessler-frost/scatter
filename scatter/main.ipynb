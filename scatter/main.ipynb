{
 "cells": [
  {
   "cell_type": "code",
   "execution_count": 1,
   "metadata": {},
   "outputs": [
    {
     "name": "stderr",
     "output_type": "stream",
     "text": [
      "/home/neptune/miniconda3/envs/scatter/lib/python3.10/site-packages/pydantic/_internal/_config.py:341: UserWarning: Valid config keys have changed in V2:\n",
      "* 'orm_mode' has been renamed to 'from_attributes'\n",
      "  warnings.warn(message, UserWarning)\n"
     ]
    }
   ],
   "source": [
    "from scatter.main import save, make_callable\n",
    "import cloudpickle\n",
    "import json\n",
    "import redis\n",
    "\n",
    "\n",
    "def sample(i: int, j: float = 4.0) -> list[float]:\n",
    "    return i + j\n",
    "\n",
    "ser_sample = cloudpickle.dumps(sample)\n",
    "\n",
    "\n",
    "r = redis.Redis()\n",
    "\n",
    "# pipe = r.pipeline()\n",
    "# pipe.set(\"a\", \"a value\").set(\"b\", \"b value\").get(\"a\").execute()\n",
    "\n",
    "# r.set(\"sample_func\", ser_sample)\n"
   ]
  },
  {
   "cell_type": "code",
   "execution_count": 2,
   "metadata": {},
   "outputs": [],
   "source": [
    "# new_ser_func = r.get(\"sample_func\")\n",
    "\n",
    "# runnable = cloudpickle.loads(new_ser_func)\n",
    "# runnable(1, 2)"
   ]
  },
  {
   "cell_type": "code",
   "execution_count": 4,
   "metadata": {},
   "outputs": [
    {
     "name": "stdout",
     "output_type": "stream",
     "text": [
      "True\n"
     ]
    },
    {
     "data": {
      "text/plain": [
       "FunctionModel(pk='01J2N1SPZ3CA8Q38TQ5AY2G2S7', name='sample', latest=0, saved_function={0: SavedFunctionModel(pk='01J2N1SPYX6EW8XYJ09WY97BHJ', version=0)})"
      ]
     },
     "execution_count": 4,
     "metadata": {},
     "output_type": "execute_result"
    }
   ],
   "source": [
    "import warnings\n",
    "warnings.filterwarnings(\"ignore\", category=UserWarning)\n",
    "\n",
    "from redis_om import JsonModel, Field, EmbeddedJsonModel\n",
    "from typing import Callable, List, Dict\n",
    "\n",
    "class SavedFunctionModel(EmbeddedJsonModel):\n",
    "    version: int = Field(index=True)\n",
    "\n",
    "\n",
    "class FunctionModel(JsonModel):\n",
    "    name: str = Field(index=True)\n",
    "    latest: int\n",
    "    saved_function: Dict[int, SavedFunctionModel]\n",
    "\n",
    "\n",
    "saved_func = SavedFunctionModel(version=0)\n",
    "\n",
    "print(r.set(saved_func.pk, ser_sample))\n",
    "\n",
    "\n",
    "model = FunctionModel(\n",
    "    name = \"sample\",\n",
    "    latest = saved_func.version,\n",
    "    saved_function = {\n",
    "        saved_func.version: saved_func\n",
    "    }\n",
    ")\n",
    "\n",
    "model.save()"
   ]
  },
  {
   "cell_type": "code",
   "execution_count": null,
   "metadata": {},
   "outputs": [],
   "source": []
  },
  {
   "cell_type": "code",
   "execution_count": null,
   "metadata": {},
   "outputs": [],
   "source": []
  },
  {
   "cell_type": "code",
   "execution_count": null,
   "metadata": {},
   "outputs": [],
   "source": []
  },
  {
   "cell_type": "code",
   "execution_count": null,
   "metadata": {},
   "outputs": [],
   "source": []
  }
 ],
 "metadata": {
  "kernelspec": {
   "display_name": "scatter",
   "language": "python",
   "name": "python3"
  },
  "language_info": {
   "codemirror_mode": {
    "name": "ipython",
    "version": 3
   },
   "file_extension": ".py",
   "mimetype": "text/x-python",
   "name": "python",
   "nbconvert_exporter": "python",
   "pygments_lexer": "ipython3",
   "version": "3.10.14"
  }
 },
 "nbformat": 4,
 "nbformat_minor": 2
}
