{
 "cells": [
  {
   "cell_type": "code",
   "execution_count": 1,
   "metadata": {},
   "outputs": [
    {
     "name": "stdout",
     "output_type": "stream",
     "text": [
      "{'pk': '01J2PQ7QJJEB3EZMBPNF9KAM1K',\n",
      " 'source': 'def sample(i: int, j: float = 5.0) -> list[float]:\\n'\n",
      "           '    return i + j\\n',\n",
      " 'version': 1}\n",
      "7.0\n"
     ]
    }
   ],
   "source": [
    "from scatter.main import save, make_callable, _get_function\n",
    "from pprint import pprint\n",
    "\n",
    "\n",
    "def sample(i: int, j: float = 5.0) -> list[float]:\n",
    "    return i + j\n",
    "\n",
    "\n",
    "# pprint(save(sample).model_dump())\n",
    "\n",
    "name = \"sample\"\n",
    "\n",
    "my_func = _get_function(name)\n",
    "pprint(my_func.versioned_functions[my_func.current_version].model_dump())\n",
    "\n",
    "func = make_callable(name)\n",
    "print(func(2))\n"
   ]
  },
  {
   "cell_type": "code",
   "execution_count": 6,
   "metadata": {},
   "outputs": [
    {
     "name": "stdout",
     "output_type": "stream",
     "text": [
      "0.07472116300004927\n",
      "12.315208145999804\n"
     ]
    }
   ],
   "source": [
    "# Measure time for 10000 calls\n",
    "\n",
    "from time import perf_counter\n",
    "import cloudpickle\n",
    "\n",
    "\n",
    "dumped_func = cloudpickle.dumps(sample)\n",
    "\n",
    "start = perf_counter()\n",
    "for _ in range(10000):\n",
    "    cloudpickle.loads(dumped_func)(42, 42)\n",
    "\n",
    "print(perf_counter() - start)\n",
    "\n",
    "start = perf_counter()\n",
    "for _ in range(10000):\n",
    "    make_callable(name)(42, 42)\n",
    "\n",
    "print(perf_counter() - start)"
   ]
  },
  {
   "cell_type": "code",
   "execution_count": 3,
   "metadata": {},
   "outputs": [],
   "source": []
  },
  {
   "cell_type": "code",
   "execution_count": 4,
   "metadata": {},
   "outputs": [],
   "source": [
    "# import redis\n",
    "\n",
    "# r = redis.Redis()\n",
    "\n",
    "# r.flushall()"
   ]
  },
  {
   "cell_type": "code",
   "execution_count": null,
   "metadata": {},
   "outputs": [],
   "source": []
  },
  {
   "cell_type": "code",
   "execution_count": null,
   "metadata": {},
   "outputs": [],
   "source": []
  }
 ],
 "metadata": {
  "kernelspec": {
   "display_name": "scatter",
   "language": "python",
   "name": "python3"
  },
  "language_info": {
   "codemirror_mode": {
    "name": "ipython",
    "version": 3
   },
   "file_extension": ".py",
   "mimetype": "text/x-python",
   "name": "python",
   "nbconvert_exporter": "python",
   "pygments_lexer": "ipython3",
   "version": "3.10.14"
  }
 },
 "nbformat": 4,
 "nbformat_minor": 2
}
