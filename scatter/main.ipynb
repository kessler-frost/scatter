{
 "cells": [
  {
   "cell_type": "code",
   "execution_count": 1,
   "metadata": {},
   "outputs": [
    {
     "name": "stdout",
     "output_type": "stream",
     "text": [
      "{'current_version': 0,\n",
      " 'name': 'sample',\n",
      " 'pk': '01J2SY1R7D9GCR1F4TC7SSYX9D',\n",
      " 'versioned_functions': {0: {'pk': '01J2SY1R7B7CHB4JREEMVGC4BJ',\n",
      "                             'source': 'def sample(i: int, j: float = 5.0) -> '\n",
      "                                       'list[float]:\\n'\n",
      "                                       '    return i + j\\n',\n",
      "                             'version': 0}}}\n"
     ]
    }
   ],
   "source": [
    "from scatter.main import save, make_callable, _get_function\n",
    "from pprint import pprint\n",
    "\n",
    "\n",
    "def sample(i: int, j: float = 5.0) -> list[float]:\n",
    "    return i + j\n",
    "\n",
    "\n",
    "pprint(save(sample).model_dump())\n",
    "\n",
    "name = \"sample\"\n",
    "\n",
    "# my_func = _get_function(name)\n",
    "# pprint(my_func.versioned_functions[my_func.current_version].model_dump())\n",
    "\n",
    "# func = make_callable(name)\n",
    "# print(func(2))\n"
   ]
  },
  {
   "cell_type": "code",
   "execution_count": 2,
   "metadata": {},
   "outputs": [
    {
     "name": "stdout",
     "output_type": "stream",
     "text": [
      "Normal call: 0.0005944579606875777\n",
      "Cloudpickle call: 0.04333550005685538\n",
      "Redis direct call: 1.1739838329376653\n",
      "Redis pipelined call: 0.0641075000166893\n",
      "Redis OM call: 18.016036833054386\n"
     ]
    }
   ],
   "source": [
    "# Measure time for 10000 calls\n",
    "\n",
    "from time import perf_counter\n",
    "import cloudpickle\n",
    "import redis\n",
    "\n",
    "NUM = 10_000\n",
    "\n",
    "\n",
    "r = redis.Redis()\n",
    "dumped_func = cloudpickle.dumps(sample)\n",
    "\n",
    "\n",
    "# func_id = str(ulid.ULID())\n",
    "func_id = \"sample\"\n",
    "r.set(func_id, dumped_func)\n",
    "\n",
    "\n",
    "start = perf_counter()\n",
    "for _ in range(NUM):\n",
    "    sample(42, 42)\n",
    "print(\"Normal call:\", perf_counter() - start)\n",
    "\n",
    "\n",
    "start = perf_counter()\n",
    "for _ in range(NUM):\n",
    "    cloudpickle.loads(dumped_func)(42, 42)\n",
    "print(\"Cloudpickle call:\", perf_counter() - start)\n",
    "\n",
    "\n",
    "start = perf_counter()\n",
    "for _ in range(NUM):\n",
    "    cloudpickle.loads(r.get(func_id))(42, 42)\n",
    "print(\"Redis direct call:\", perf_counter() - start)\n",
    "\n",
    "\n",
    "start = perf_counter()\n",
    "pipeline = r.pipeline()\n",
    "for _ in range(NUM):\n",
    "    pipeline.get(func_id)\n",
    "all_funcs = pipeline.execute()\n",
    "for func in all_funcs:\n",
    "    cloudpickle.loads(func)(42, 42)\n",
    "print(\"Redis pipelined call:\", perf_counter() - start)\n",
    "\n",
    "\n",
    "start = perf_counter()\n",
    "for _ in range(NUM):\n",
    "    make_callable(name)(42, 42)\n",
    "print(\"Redis OM call:\", perf_counter() - start)"
   ]
  },
  {
   "cell_type": "code",
   "execution_count": null,
   "metadata": {},
   "outputs": [],
   "source": []
  },
  {
   "cell_type": "code",
   "execution_count": 3,
   "metadata": {},
   "outputs": [
    {
     "data": {
      "text/plain": [
       "True"
      ]
     },
     "execution_count": 3,
     "metadata": {},
     "output_type": "execute_result"
    }
   ],
   "source": [
    "import redis\n",
    "\n",
    "r = redis.Redis()\n",
    "\n",
    "r.flushall()"
   ]
  },
  {
   "cell_type": "code",
   "execution_count": null,
   "metadata": {},
   "outputs": [],
   "source": []
  },
  {
   "cell_type": "code",
   "execution_count": null,
   "metadata": {},
   "outputs": [],
   "source": []
  }
 ],
 "metadata": {
  "kernelspec": {
   "display_name": "scatter",
   "language": "python",
   "name": "python3"
  },
  "language_info": {
   "codemirror_mode": {
    "name": "ipython",
    "version": 3
   },
   "file_extension": ".py",
   "mimetype": "text/x-python",
   "name": "python",
   "nbconvert_exporter": "python",
   "pygments_lexer": "ipython3",
   "version": "3.10.14"
  }
 },
 "nbformat": 4,
 "nbformat_minor": 2
}
