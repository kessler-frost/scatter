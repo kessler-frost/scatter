{
 "cells": [
  {
   "cell_type": "code",
   "execution_count": 1,
   "metadata": {},
   "outputs": [],
   "source": [
    "from scatter.main import save, make_callable, _get_function\n",
    "from pprint import pprint\n",
    "\n",
    "\n",
    "def sample(i: int, j: float = 5.0) -> list[float]:\n",
    "    return i + j\n",
    "\n",
    "\n",
    "# pprint(save(sample).model_dump())\n",
    "\n",
    "name = \"sample\"\n",
    "\n",
    "# my_func = _get_function(name)\n",
    "# pprint(my_func.versioned_functions[my_func.current_version].model_dump())\n",
    "\n",
    "# func = make_callable(name)\n",
    "# print(func(2))\n"
   ]
  },
  {
   "cell_type": "code",
   "execution_count": 2,
   "metadata": {},
   "outputs": [
    {
     "name": "stdout",
     "output_type": "stream",
     "text": [
      "0.07200842399970497\n",
      "1.6164474880001762\n",
      "12.377397054000085\n"
     ]
    }
   ],
   "source": [
    "# Measure time for 10000 calls\n",
    "\n",
    "from time import perf_counter\n",
    "import cloudpickle\n",
    "import redis\n",
    "import ulid\n",
    "\n",
    "r = redis.Redis()\n",
    "\n",
    "dumped_func = cloudpickle.dumps(sample)\n",
    "\n",
    "# func_id = str(ulid.ULID())\n",
    "func_id = \"sample\"\n",
    "r.set(func_id, dumped_func)\n",
    "\n",
    "\n",
    "start = perf_counter()\n",
    "for _ in range(10000):\n",
    "    cloudpickle.loads(dumped_func)(42, 42)\n",
    "\n",
    "print(perf_counter() - start)\n",
    "\n",
    "start = perf_counter()\n",
    "\n",
    "for _ in range(10000):\n",
    "    cloudpickle.loads(r.get(func_id))(42, 42)\n",
    "\n",
    "print(perf_counter() - start)\n",
    "\n",
    "start = perf_counter()\n",
    "for _ in range(10000):\n",
    "    make_callable(name)(42, 42)\n",
    "\n",
    "print(perf_counter() - start)"
   ]
  },
  {
   "cell_type": "code",
   "execution_count": null,
   "metadata": {},
   "outputs": [],
   "source": []
  },
  {
   "cell_type": "code",
   "execution_count": 3,
   "metadata": {},
   "outputs": [],
   "source": [
    "# import redis\n",
    "\n",
    "# r = redis.Redis()\n",
    "\n",
    "# r.flushall()"
   ]
  },
  {
   "cell_type": "code",
   "execution_count": null,
   "metadata": {},
   "outputs": [],
   "source": []
  },
  {
   "cell_type": "code",
   "execution_count": null,
   "metadata": {},
   "outputs": [],
   "source": []
  }
 ],
 "metadata": {
  "kernelspec": {
   "display_name": "scatter",
   "language": "python",
   "name": "python3"
  },
  "language_info": {
   "codemirror_mode": {
    "name": "ipython",
    "version": 3
   },
   "file_extension": ".py",
   "mimetype": "text/x-python",
   "name": "python",
   "nbconvert_exporter": "python",
   "pygments_lexer": "ipython3",
   "version": "3.10.14"
  }
 },
 "nbformat": 4,
 "nbformat_minor": 2
}
