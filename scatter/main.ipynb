{
 "cells": [
  {
   "cell_type": "code",
   "execution_count": 1,
   "metadata": {},
   "outputs": [
    {
     "name": "stderr",
     "output_type": "stream",
     "text": [
      "/home/neptune/miniconda3/envs/scatter/lib/python3.10/site-packages/pydantic/_internal/_config.py:341: UserWarning: Valid config keys have changed in V2:\n",
      "* 'orm_mode' has been renamed to 'from_attributes'\n",
      "  warnings.warn(message, UserWarning)\n"
     ]
    }
   ],
   "source": [
    "from scatter.main import save, make_callable\n",
    "import cloudpickle\n",
    "import json\n",
    "import redis\n",
    "\n",
    "\n",
    "def sample(i: int, j: float = 4.0) -> list[float]:\n",
    "    return i + j\n",
    "\n",
    "ser_sample = cloudpickle.dumps(sample)\n",
    "\n",
    "\n",
    "r = redis.Redis()\n",
    "\n",
    "# pipe = r.pipeline()\n",
    "# pipe.set(\"a\", \"a value\").set(\"b\", \"b value\").get(\"a\").execute()\n",
    "\n",
    "# r.set(\"sample_func\", ser_sample)\n"
   ]
  },
  {
   "cell_type": "code",
   "execution_count": 2,
   "metadata": {},
   "outputs": [],
   "source": [
    "# new_ser_func = r.get(\"sample_func\")\n",
    "\n",
    "# runnable = cloudpickle.loads(new_ser_func)\n",
    "# runnable(1, 2)"
   ]
  },
  {
   "cell_type": "code",
   "execution_count": 3,
   "metadata": {},
   "outputs": [
    {
     "name": "stdout",
     "output_type": "stream",
     "text": [
      "True\n"
     ]
    },
    {
     "data": {
      "text/plain": [
       "FunctionModel(pk='01J2N2NTPXQ7RY94ZMTEHS2QAN', name='sample', latest=1, saved_function={1: '01J2N2NTPTK9JQSFMT635V8BG3'})"
      ]
     },
     "execution_count": 3,
     "metadata": {},
     "output_type": "execute_result"
    }
   ],
   "source": [
    "import warnings\n",
    "warnings.filterwarnings(\"ignore\", category=UserWarning)\n",
    "\n",
    "from redis_om import JsonModel, Field\n",
    "from typing import Callable, List, Dict\n",
    "import ulid\n",
    "\n",
    "\n",
    "class FunctionModel(JsonModel):\n",
    "    name: str = Field(index=True)\n",
    "    latest: int\n",
    "    saved_function: Dict[int, str]\n",
    "\n",
    "version = 1\n",
    "func_id = str(ulid.ULID())\n",
    "\n",
    "\n",
    "print(r.set(func_id, ser_sample))\n",
    "\n",
    "\n",
    "model = FunctionModel(\n",
    "    name = \"sample\",\n",
    "    latest = version,\n",
    "    saved_function = {\n",
    "        version: func_id\n",
    "    }\n",
    ")\n",
    "\n",
    "model.save()"
   ]
  },
  {
   "cell_type": "code",
   "execution_count": null,
   "metadata": {},
   "outputs": [],
   "source": []
  },
  {
   "cell_type": "code",
   "execution_count": null,
   "metadata": {},
   "outputs": [],
   "source": []
  },
  {
   "cell_type": "code",
   "execution_count": null,
   "metadata": {},
   "outputs": [],
   "source": []
  }
 ],
 "metadata": {
  "kernelspec": {
   "display_name": "scatter",
   "language": "python",
   "name": "python3"
  },
  "language_info": {
   "codemirror_mode": {
    "name": "ipython",
    "version": 3
   },
   "file_extension": ".py",
   "mimetype": "text/x-python",
   "name": "python",
   "nbconvert_exporter": "python",
   "pygments_lexer": "ipython3",
   "version": "3.10.14"
  }
 },
 "nbformat": 4,
 "nbformat_minor": 2
}
