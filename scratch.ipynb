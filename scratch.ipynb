{
 "cells": [
  {
   "cell_type": "code",
   "execution_count": 1,
   "metadata": {},
   "outputs": [],
   "source": [
    "import msgspec\n",
    "import cloudpickle as pickle\n",
    "import typing"
   ]
  },
  {
   "cell_type": "code",
   "execution_count": 2,
   "metadata": {},
   "outputs": [],
   "source": [
    "def create_struct(function: typing.Callable) -> msgspec.Struct:\n",
    "\n",
    "    # Get standard type hints\n",
    "    msg_spec_hints = typing.get_type_hints(function)\n",
    "\n",
    "    assert \"return\" in msg_spec_hints and len(msg_spec_hints) > 1, \\\n",
    "        \"Typehint must be specified for all arguments and return value.\"\n",
    "\n",
    "    msg_spec_hints = list(msg_spec_hints.items())\n",
    "\n",
    "    # Handle `return` type hint\n",
    "    msg_spec_hints[-1] = tuple([msg_spec_hints[-1][0], typing.Optional[msg_spec_hints[-1][1]], None])\n",
    "\n",
    "    # Create struct\n",
    "    Function = msgspec.defstruct(\n",
    "        \"Function\",\n",
    "        msg_spec_hints,\n",
    "    )\n",
    "\n",
    "    return Function\n",
    "\n",
    "def enc_hook(obj: typing.Any) -> bytes:\n",
    "    return pickle.dumps(obj)\n",
    "\n",
    "def dec_hook(type: typing.Any, obj: bytes) -> typing.Any:\n",
    "    return pickle.loads(obj)"
   ]
  },
  {
   "cell_type": "code",
   "execution_count": 3,
   "metadata": {},
   "outputs": [
    {
     "name": "stdout",
     "output_type": "stream",
     "text": [
      "Function(a=1, b='2', c=[3, 4], return=None)\n"
     ]
    }
   ],
   "source": [
    "class TestClass:\n",
    "    def __init__(self, a, b, c):\n",
    "        self.a = a\n",
    "        self.b = b\n",
    "        self.c = c\n",
    "\n",
    "def test_function(a: int, b: str, c: typing.List[int]) -> TestClass:\n",
    "    return TestClass(a, b, c)\n",
    "\n",
    "MyStruct = create_struct(test_function)\n",
    "\n",
    "encoder = msgspec.json.Encoder(enc_hook=enc_hook)\n",
    "decoder = msgspec.json.Decoder(type=MyStruct, dec_hook=dec_hook)\n",
    "\n",
    "my_struct = MyStruct(1, \"2\", [3, 4])\n",
    "print(my_struct)"
   ]
  },
  {
   "cell_type": "code",
   "execution_count": 4,
   "metadata": {},
   "outputs": [
    {
     "name": "stdout",
     "output_type": "stream",
     "text": [
      "<class 'bytes'>\n",
      "b'{\"a\":1,\"b\":\"2\",\"c\":[3,4],\"return\":null}'\n"
     ]
    }
   ],
   "source": [
    "# encoder = msgspec.json.encode(my_struct)\n",
    "encoded = encoder.encode(my_struct)\n",
    "print(type(encoded))\n",
    "print(encoded)"
   ]
  },
  {
   "cell_type": "code",
   "execution_count": 12,
   "metadata": {},
   "outputs": [
    {
     "name": "stdout",
     "output_type": "stream",
     "text": [
      "<class 'bytes'>\n",
      "b'{\"a\":1,\"b\":\"2\",\"'\n"
     ]
    }
   ],
   "source": [
    "enc_array = encoded\n",
    "print(type(enc_array))\n",
    "print(enc_array[:16])"
   ]
  },
  {
   "cell_type": "code",
   "execution_count": 6,
   "metadata": {},
   "outputs": [
    {
     "name": "stdout",
     "output_type": "stream",
     "text": [
      "Function(a=1, b='2', c=[3, 4], return=None)\n"
     ]
    }
   ],
   "source": [
    "decoded = decoder.decode(encoded)\n",
    "print(decoded)"
   ]
  },
  {
   "cell_type": "code",
   "execution_count": 7,
   "metadata": {},
   "outputs": [],
   "source": [
    "# %time p_encoded = pickle.dumps(my_struct)\n",
    "# %time p_decoded = pickle.loads(p_encoded)"
   ]
  },
  {
   "cell_type": "code",
   "execution_count": null,
   "metadata": {},
   "outputs": [],
   "source": []
  }
 ],
 "metadata": {
  "kernelspec": {
   "display_name": "scatter",
   "language": "python",
   "name": "python3"
  },
  "language_info": {
   "codemirror_mode": {
    "name": "ipython",
    "version": 3
   },
   "file_extension": ".py",
   "mimetype": "text/x-python",
   "name": "python",
   "nbconvert_exporter": "python",
   "pygments_lexer": "ipython3",
   "version": "3.11.9"
  }
 },
 "nbformat": 4,
 "nbformat_minor": 2
}
