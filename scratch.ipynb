{
 "cells": [
  {
   "cell_type": "code",
   "execution_count": 1,
   "metadata": {},
   "outputs": [],
   "source": [
    "import msgspec\n",
    "import cloudpickle as pickle\n",
    "import typing"
   ]
  },
  {
   "cell_type": "code",
   "execution_count": 2,
   "metadata": {},
   "outputs": [],
   "source": [
    "def create_struct(function: typing.Callable) -> msgspec.Struct:\n",
    "\n",
    "    # Get standard type hints\n",
    "    msg_spec_hints = typing.get_type_hints(function)\n",
    "\n",
    "    assert \"return\" in msg_spec_hints and len(msg_spec_hints) > 1, \\\n",
    "        \"Typehint must be specified for all arguments and return value.\"\n",
    "\n",
    "    msg_spec_hints = list(msg_spec_hints.items())\n",
    "\n",
    "    # Handle `return` type hint\n",
    "    msg_spec_hints[-1] = tuple([msg_spec_hints[-1][0], typing.Optional[msg_spec_hints[-1][1]], None])\n",
    "\n",
    "    # Create struct\n",
    "    Function = msgspec.defstruct(\n",
    "        \"Function\",\n",
    "        msg_spec_hints,\n",
    "    )\n",
    "    print(type(Function))\n",
    "\n",
    "    return Function\n",
    "\n",
    "def enc_hook(obj: typing.Any) -> bytes:\n",
    "    return pickle.dumps(obj)\n",
    "\n",
    "def dec_hook(type: typing.Any, obj: bytes) -> typing.Any:\n",
    "    return pickle.loads(obj)"
   ]
  },
  {
   "cell_type": "code",
   "execution_count": 3,
   "metadata": {},
   "outputs": [
    {
     "name": "stdout",
     "output_type": "stream",
     "text": [
      "<class 'msgspec._core.StructMeta'>\n",
      "Function(a=1, b='2', c=[3, 4], d=<__main__.TestClass object at 0x10584f7d0>, return=None)\n"
     ]
    }
   ],
   "source": [
    "class TestClass:\n",
    "    def __init__(self, a, b, c):\n",
    "        self.a = a\n",
    "        self.b = b\n",
    "        self.c = c\n",
    "\n",
    "def test_function(a: int, b: str, c: typing.List[int], d: TestClass) -> TestClass:\n",
    "    return TestClass(a, b, c)\n",
    "\n",
    "MyStruct = create_struct(test_function)\n",
    "\n",
    "encoder = msgspec.msgpack.Encoder(enc_hook=enc_hook)\n",
    "decoder = msgspec.msgpack.Decoder(type=MyStruct, dec_hook=dec_hook)\n",
    "\n",
    "my_struct = MyStruct(1, \"2\", [3, 4], TestClass(5, \"6\", [7, 8]))\n",
    "print(my_struct)"
   ]
  },
  {
   "cell_type": "code",
   "execution_count": 4,
   "metadata": {},
   "outputs": [
    {
     "name": "stdout",
     "output_type": "stream",
     "text": [
      "<class 'bytes'>\n",
      "b'\\x85\\xa1a\\x01\\xa1b\\xa12\\xa1c\\x92\\x03\\x04\\xa1d\\xc5\\x03\"\\x80\\x05\\x95\\x17\\x03\\x00\\x00\\x00\\x00\\x00\\x00\\x8c\\x17cloudpickle.cloudpickle\\x94\\x8c\\x14_make_skeleton_class\\x94\\x93\\x94(\\x8c\\x08builtins\\x94\\x8c\\x04type\\x94\\x93\\x94\\x8c\\tTestClass\\x94h\\x03\\x8c\\x06object\\x94\\x93\\x94\\x85\\x94}\\x94\\x8c\\n__module__\\x94\\x8c\\x08__main__\\x94s\\x8c 232cfd4b8e2b4473ad8316d89f18141c\\x94Nt\\x94R\\x94h\\x00\\x8c\\x0f_class_setstate\\x94\\x93\\x94h\\x0f}\\x94(h\\x0bh\\x0c\\x8c\\x08__init__\\x94h\\x00\\x8c\\x0e_make_function\\x94\\x93\\x94(h\\x00\\x8c\\r_builtin_type\\x94\\x93\\x94\\x8c\\x08CodeType\\x94\\x85\\x94R\\x94(K\\x04K\\x00K\\x00K\\x04K\\x02K\\x03C0\\x97\\x00|\\x01|\\x00_\\x00\\x00\\x00\\x00\\x00\\x00\\x00\\x00\\x00|\\x02|\\x00_\\x01\\x00\\x00\\x00\\x00\\x00\\x00\\x00\\x00|\\x03|\\x00_\\x02\\x00\\x00\\x00\\x00\\x00\\x00\\x00\\x00d\\x00S\\x00\\x94N\\x85\\x94\\x8c\\x01a\\x94\\x8c\\x01b\\x94\\x8c\\x01c\\x94\\x87\\x94(\\x8c\\x04self\\x94h\\x1dh\\x1eh\\x1ft\\x94\\x8cN/var/folders/1z/64_91wwj46ng1xjffddgz_n40000gn/T/ipykernel_51892/2604510142.py\\x94h\\x13\\x8c\\x12TestClass.__init__\\x94K\\x02C\\x1b\\x80\\x00\\xd8\\x11\\x12\\x88\\x04\\x8c\\x06\\xd8\\x11\\x12\\x88\\x04\\x8c\\x06\\xd8\\x11\\x12\\x88\\x04\\x8c\\x06\\x88\\x06\\x88\\x06\\x94C\\x00\\x94))t\\x94R\\x94}\\x94(\\x8c\\x0b__package__\\x94N\\x8c\\x08__name__\\x94h\\x0cuNNNt\\x94R\\x94h\\x00\\x8c\\x12_function_setstate\\x94\\x93\\x94h-}\\x94}\\x94(h+h\\x13\\x8c\\x0c__qualname__\\x94h$\\x8c\\x0f__annotations__\\x94}\\x94\\x8c\\x0e__kwdefaults__\\x94N\\x8c\\x0c__defaults__\\x94Nh\\x0bh\\x0c\\x8c\\x07__doc__\\x94N\\x8c\\x0b__closure__\\x94N\\x8c\\x17_cloudpickle_submodules\\x94]\\x94\\x8c\\x0b__globals__\\x94}\\x94u\\x86\\x94\\x86R0h7N\\x8c\\r__slotnames__\\x94]\\x94u}\\x94\\x86\\x94\\x86R0)\\x81\\x94}\\x94(h\\x1dK\\x05h\\x1e\\x8c\\x016\\x94h\\x1f]\\x94(K\\x07K\\x08eub.\\xa6return\\xc0'\n"
     ]
    }
   ],
   "source": [
    "encoded = encoder.encode(my_struct)\n",
    "print(type(encoded))\n",
    "print(encoded)"
   ]
  },
  {
   "cell_type": "code",
   "execution_count": 5,
   "metadata": {},
   "outputs": [
    {
     "name": "stdout",
     "output_type": "stream",
     "text": [
      "Function(a=1, b='2', c=[3, 4], d=<__main__.TestClass object at 0x105a5c990>, return=None)\n"
     ]
    }
   ],
   "source": [
    "decoded = decoder.decode(encoded)\n",
    "print(decoded)"
   ]
  },
  {
   "cell_type": "code",
   "execution_count": 7,
   "metadata": {},
   "outputs": [
    {
     "name": "stdout",
     "output_type": "stream",
     "text": [
      "5\n"
     ]
    }
   ],
   "source": [
    "print(decoded.d.a)"
   ]
  },
  {
   "cell_type": "code",
   "execution_count": null,
   "metadata": {},
   "outputs": [],
   "source": []
  }
 ],
 "metadata": {
  "kernelspec": {
   "display_name": "scatter",
   "language": "python",
   "name": "python3"
  },
  "language_info": {
   "codemirror_mode": {
    "name": "ipython",
    "version": 3
   },
   "file_extension": ".py",
   "mimetype": "text/x-python",
   "name": "python",
   "nbconvert_exporter": "python",
   "pygments_lexer": "ipython3",
   "version": "3.11.9"
  }
 },
 "nbformat": 4,
 "nbformat_minor": 2
}
